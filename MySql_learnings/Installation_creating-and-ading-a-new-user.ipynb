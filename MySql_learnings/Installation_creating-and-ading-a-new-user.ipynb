{
 "cells": [
  {
   "cell_type": "markdown",
   "metadata": {},
   "source": [
    "First of all when we start with mysql we use **Cmd** line interface to have batter understanding of **cmands**."
   ]
  },
  {
   "cell_type": "markdown",
   "metadata": {},
   "source": [
    "## First we have to install from MYSQL officail site\n",
    "- we need three products by manual we select these \n",
    "- MySql server (version.x)\n",
    "- MySql workBench (version.x)\n",
    "- MySql shell (version.x)"
   ]
  },
  {
   "cell_type": "markdown",
   "metadata": {},
   "source": [
    "**show some patientnce let them to be active in our system**"
   ]
  },
  {
   "cell_type": "markdown",
   "metadata": {},
   "source": [
    "During all this it will ask For paswords \n",
    "set them"
   ]
  },
  {
   "cell_type": "markdown",
   "metadata": {},
   "source": [
    "After installation is done \n",
    "get the **bin path**\n",
    "\n",
    "which you can find in your <br>\n",
    "c dive like<br>\n",
    "c then open afolder **\"program files \"** and go to **\"MuSql\"** and open the bin folder\n",
    "**copy that path**"
   ]
  },
  {
   "cell_type": "markdown",
   "metadata": {},
   "source": [
    "and **paste** it in the >> **\"environment variables\"** <br>\n",
    "open edit the **\"system environment variables\"** <br>\n",
    "- Click on **\"environment variables\"** <br>\n",
    "Now you will see to varibles boxes One for user and other for system\n",
    "- click on \"path\" in system variables\n",
    "- click on new\n",
    "- paste the copied path \n",
    "- click ok and <br>\n",
    " **\"boom\"**"
   ]
  },
  {
   "cell_type": "markdown",
   "metadata": {},
   "source": [
    "### in this way we can use MySql in all cmd line prompts(its my poesonal opinion)"
   ]
  },
  {
   "cell_type": "markdown",
   "metadata": {},
   "source": [
    "now we will check is it working or not <br> \n",
    "**open anaconda prompt**"
   ]
  },
  {
   "cell_type": "markdown",
   "metadata": {},
   "source": [
    "use <br>\n",
    "\t\t**mysql --version**\n",
    "keep in mind that my sql cmds will always exiute when we put \";\" <br>\n",
    " at the end but this time we go with out it as we are in anaconda prompt"
   ]
  },
  {
   "cell_type": "markdown",
   "metadata": {},
   "source": [
    "## First we have to log in as MySql user \n"
   ]
  },
  {
   "cell_type": "markdown",
   "metadata": {},
   "source": [
    "use <br>\n",
    "**MySql -U username -p** <br>\n",
    "**enter the pasword**"
   ]
  },
  {
   "cell_type": "markdown",
   "metadata": {},
   "source": [
    "a **big round of apluse for you** <br> \n",
    "now you are in space of mysql shell\n"
   ]
  },
  {
   "cell_type": "markdown",
   "metadata": {},
   "source": [
    "\n",
    "### you can use mysql cmd line in many other way like we have installed the 3 products pone of them is cmd for Mysql\n",
    "\n",
    "have you noticed that I have written the cmand in upper and lower \n",
    "don't be confused its just for readability its not case sensitive like **python** <br>\n"
   ]
  },
  {
   "cell_type": "markdown",
   "metadata": {},
   "source": [
    "### so now lets begin our journey with \n",
    "**Mysql** <br>\n"
   ]
  },
  {
   "cell_type": "markdown",
   "metadata": {},
   "source": [
    "\n",
    "\n",
    "### lets explore it togather\n"
   ]
  },
  {
   "cell_type": "markdown",
   "metadata": {},
   "source": [
    "let me clear one thing <br>\n",
    "at the time of **writng it and using and installing** <br>\n",
    "I am damp new to it <br>\n",
    "I havn't seen the **interface of MySql** before that"
   ]
  },
  {
   "cell_type": "markdown",
   "metadata": {},
   "source": [
    "\n",
    "so don't worry  <br>\n",
    "keep exploring I'll also sahre few of my resourses with you to have more understanding of <br> **MysQl**\n"
   ]
  },
  {
   "cell_type": "markdown",
   "metadata": {},
   "source": [
    "\n",
    "\n",
    "### ohh yea are we ready now!\n"
   ]
  },
  {
   "cell_type": "markdown",
   "metadata": {},
   "source": [
    "### now we  use <br>\n",
    "**mysql -u User_name -p ****** <br> \n",
    "and as soon as you  hit enter you will be a on a **pilot seat** of **MySql** <br>\n"
   ]
  },
  {
   "cell_type": "markdown",
   "metadata": {},
   "source": [
    "## let me clear one thing here <br>\n",
    "you can write the same cmd in two ways <br>\n",
    "\n",
    "when in anaconda you will use these of two <br>\n",
    "**MySql -u USerName -p PASWORD**  \t<br>\n",
    "or  <br>\n",
    "**MySql -u UserName -p** <br>\n"
   ]
  },
  {
   "cell_type": "markdown",
   "metadata": {},
   "source": [
    "\n",
    "The difference is just in first you have given the pasword in visiable way and in other the system will ask for paswords after exectuing the cmd  in systematic way as we know always paswords are ******"
   ]
  },
  {
   "cell_type": "markdown",
   "metadata": {},
   "source": [
    "### so lets start <br>\n",
    "with  creating a **new user in cmd line** <br>\n",
    "<br>\n",
    "I am doing every thing here for cmd line<br>\n"
   ]
  },
  {
   "cell_type": "markdown",
   "metadata": {},
   "source": [
    "\n",
    "#### For Graphical user we will have wome other plns so stay tune <br>\n"
   ]
  },
  {
   "cell_type": "markdown",
   "metadata": {},
   "source": [
    "## Creating a user with all preveliages <br>\n",
    "\n",
    "search for **prevelloages** if you can't get <br>\n",
    "<br>\n",
    "create a user by<br>\n",
    "**CREATE USER IF NOT EXISTS Codes_Curve@localhost IDENTIFIED BY '12345';**   <br>\n",
    "\n",
    "after @ sign in user is hostname where ore database will <br>\n",
    "we will learn more latter on <br>"
   ]
  },
  {
   "cell_type": "markdown",
   "metadata": {},
   "source": [
    "After identified by it will be a pasword <br>\n",
    "<br>\n",
    "now **grant privilage** to this user <br>\n",
    "**GRANT ALL PRIVILEGES ON * . * TO Codes_Curve@localhost;**<br>\n",
    "<br>\n",
    "keep in mind that the uper or **lower case in variable or user name maters** <br>"
   ]
  },
  {
   "cell_type": "markdown",
   "metadata": {},
   "source": [
    "\n",
    "you can check privilage <br>\n",
    "by <br>\n",
    "**SHOW GRANTS for  Codes_Curve;** <br>"
   ]
  },
  {
   "cell_type": "markdown",
   "metadata": {},
   "source": [
    "Now have a look if you want to **flush all I mean delete all privillages** <br>\n",
    "use <br>\n",
    "**FLUSH PRIVILEGES;**   <br>\n"
   ]
  },
  {
   "cell_type": "markdown",
   "metadata": {},
   "source": [
    "\n",
    "as per my opinion (the active user will lost the privillages by this) <br>\n",
    "we will see this in feature <br>\n"
   ]
  },
  {
   "cell_type": "markdown",
   "metadata": {},
   "source": [
    "### sea all user by <br>\n",
    "\n",
    "**SELECT user from mysql.user;**"
   ]
  },
  {
   "cell_type": "markdown",
   "metadata": {},
   "source": [
    "when we open mysql cmd line we are in root if we chage user in it we will use <br>\n",
    "befor that when we use the anaconda cmd prompt we will change user by <br>\n",
    "**MySql -u UserName -p Pasword** <br>\n",
    "\n",
    "in MySql cmd line we will use <br>\n",
    "**SYSTEM mysql -u root -p** <br>\n",
    "and hit enter"
   ]
  },
  {
   "cell_type": "markdown",
   "metadata": {},
   "source": [
    "### Few privilages are defined <br>\n"
   ]
  },
  {
   "cell_type": "markdown",
   "metadata": {},
   "source": [
    "#### ALL PRIVILEGES:\n",
    "- It permits all privileges to a new user account. <br>\n",
    "#### CREATE: <br>\n",
    "- It enables the user account to create databases and tables. <br>\n",
    "#### DROP: <br>\n",
    "- It enables the user account to drop databases and tables. <br>\n",
    "#### DELETE: <br>\n",
    "- It enables the user account to delete rows from a specific table.\n",
    "#### INSERT:\n",
    "- It enables the user account to insert rows into a specific table. <br>\n",
    "#### SELECT: <br>\n",
    "- It enables the user account to read a database. <br>\n",
    "#### UPDATE: <br>\n",
    "- It enables the user account to update table rows.<br>"
   ]
  },
  {
   "cell_type": "markdown",
   "metadata": {},
   "source": [
    "\n",
    "you can **grante limited** privilages<br>\n",
    "by <br>\n",
    "**Grant CREATE, SELECT, INSERT ON * . * TO Codes_Curve@localhost;**  <br>"
   ]
  },
  {
   "cell_type": "markdown",
   "metadata": {},
   "source": [
    "\n",
    "#### Here we are only discusing users related work<br>\n",
    "so now <br>\n",
    "we see in which user we are<br>\n",
    "**Select user();**  <br>\n",
    "         or,  \n",
    " **Select current_user();**   <br>\n",
    " \n",
    "to see all users\n",
    "**Select user from mysql.user;**  "
   ]
  },
  {
   "cell_type": "markdown",
   "metadata": {},
   "source": [
    "now if we change to pasword  by using\n",
    "**UPDATE Statement**\n",
    "**SET PASSWORD Statement**\n",
    "**ALTER USER Statement**\n",
    "\n",
    "**UPDATE user SET password = PASSWORD('newPasword') WHERE user = 'Codes_Curve(username)' AND host = 'localhost';**  \n",
    "\n",
    "**UPDATE user SET authentication_string = PASSWORD('newPasword') WHERE user = 'Codes_Curve' AND host = 'localhost';**\n",
    "\n",
    "##### 2nd one\n",
    "**SET PASSWORD FOR 'Codes_Curve'@'localhost' = PASSWORD('NewPasword');**\n",
    "\n",
    "If you are using the MySQL version 5.7.6 or higher, the above statement deprecated and will not work in future releases. Instead, we need to use the following statement.\n",
    "\n",
    "##### Use this one\n",
    "**SET PASSWORD FOR 'Codes_Curve'@'localhost' = NewPasword;** \n",
    "\n",
    "the third way to change the user password\n",
    "\n",
    "**ALTER USER Codes_Curve@localhost IDENTIFIED BY 'NewPassword';**\n"
   ]
  },
  {
   "cell_type": "markdown",
   "metadata": {},
   "source": [
    "#### we can drop user\n",
    "oh you may not get the drop <br>\n",
    "drop is as same as in dropouts <br>😜\n",
    "drop means to delete the user<br>\n",
    "\n",
    "**DROP USER 'account_name';**  <br>\n",
    "I dont want ti delete Codes_Curve🤷‍♀️🤷‍♀️ <br>\n",
    "\n",
    "you can delete multiple user <br>\n",
    "**DROP USER AuserName@localhost, BuserName@localhost;** <br>"
   ]
  },
  {
   "cell_type": "markdown",
   "metadata": {},
   "source": [
    "what we have done in this \n",
    "ala bla \n",
    "kind of thing is\n",
    "\n",
    "\n",
    "#### we have an idea of installing MySql\n",
    "- using MysQl from cmd line prompt like\n",
    "- anaconda cmd \n",
    "- MySql cmd line\n",
    "\n",
    "##### have you learnt all these?\n",
    "\n",
    "- creating a user\n",
    "- asiging privillages \n",
    "- acesing creating user\n",
    "- how to see all user  availbel in MySql\n",
    "- localhost is some as for now I don't know much\n",
    "- how to see privillages of a user\n",
    "- how to see in which user or MySql we are\n",
    "- how to change user while stying in cmd line window \n",
    "- how to flushing the privillage \n",
    "- how to change the pasword of a user\n",
    "- even more we use three cmands to change pasword\n",
    "- last but not least we have seen that how to delete a user from users of MySql"
   ]
  },
  {
   "cell_type": "markdown",
   "metadata": {},
   "source": [
    " # و ما علينا الا البلاغ\n",
    " # والسالام"
   ]
  },
  {
   "cell_type": "markdown",
   "metadata": {},
   "source": [
    "##### now write \n",
    "**exit** and hit the enter\n",
    "#### boom \n",
    "the all mess is gone \n",
    "#### you have sucess fully lended in your system desktop untill unless you haven't any other active winndow\n"
   ]
  },
  {
   "cell_type": "markdown",
   "metadata": {},
   "source": [
    "## اللہ حافظ\n",
    "**see you soon**\n"
   ]
  }
 ],
 "metadata": {
  "kernelspec": {
   "display_name": "Python 3.10.5 64-bit",
   "language": "python",
   "name": "python3"
  },
  "language_info": {
   "name": "python",
   "version": "3.10.5"
  },
  "orig_nbformat": 4,
  "vscode": {
   "interpreter": {
    "hash": "a9cff5a362bc38ef45d817ae74b1af54d6a076e3d773891282bce078b815ba34"
   }
  }
 },
 "nbformat": 4,
 "nbformat_minor": 2
}
